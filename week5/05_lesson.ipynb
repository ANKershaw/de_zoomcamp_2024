{
 "cells": [
  {
   "cell_type": "code",
   "execution_count": 1,
   "id": "a6e2ba56-db80-4030-b4b1-06f37f12c7d9",
   "metadata": {},
   "outputs": [
    {
     "name": "stderr",
     "output_type": "stream",
     "text": [
      "Setting default log level to \"WARN\".\n",
      "To adjust logging level use sc.setLogLevel(newLevel). For SparkR, use setLogLevel(newLevel).\n",
      "24/02/29 09:57:43 WARN NativeCodeLoader: Unable to load native-hadoop library for your platform... using builtin-java classes where applicable\n"
     ]
    }
   ],
   "source": [
    "import pyspark\n",
    "from pyspark.sql import SparkSession\n",
    "\n",
    "spark = SparkSession.builder \\\n",
    "    .master(\"local[*]\") \\\n",
    "    .appName(\"test\") \\\n",
    "    .getOrCreate() \n",
    "\n"
   ]
  },
  {
   "cell_type": "code",
   "execution_count": 2,
   "id": "cc923e7a-a1b8-4bfe-897b-208e7b374206",
   "metadata": {},
   "outputs": [
    {
     "name": "stderr",
     "output_type": "stream",
     "text": [
      "                                                                                \r"
     ]
    },
    {
     "name": "stdout",
     "output_type": "stream",
     "text": [
      "+--------+--------------------+---------------------+------------------+----------+------------+------------+---------------+-------------+-----------+-----+-------+----------+------------+---------+---------------------+------------+------------+---------+--------------------+\n",
      "|VendorID|lpep_pickup_datetime|lpep_dropoff_datetime|store_and_fwd_flag|RatecodeID|PULocationID|DOLocationID|passenger_count|trip_distance|fare_amount|extra|mta_tax|tip_amount|tolls_amount|ehail_fee|improvement_surcharge|total_amount|payment_type|trip_type|congestion_surcharge|\n",
      "+--------+--------------------+---------------------+------------------+----------+------------+------------+---------------+-------------+-----------+-----+-------+----------+------------+---------+---------------------+------------+------------+---------+--------------------+\n",
      "|       2| 2020-01-22 13:18:32|  2020-01-22 13:45:58|                 N|         1|         244|          41|              1|         5.22|       22.0|  0.0|    0.5|       0.0|         0.0|     NULL|                  0.3|        22.8|           1|        1|                 0.0|\n",
      "|       2| 2020-01-23 17:54:10|  2020-01-23 18:01:02|                 N|         1|         236|         263|              1|         0.87|        6.5|  1.0|    0.5|       1.2|         0.0|     NULL|                  0.3|       12.25|           1|        1|                2.75|\n",
      "|       2| 2020-01-19 10:23:37|  2020-01-19 10:26:29|                 N|         1|         166|         166|              4|         0.63|        4.5|  0.0|    0.5|       0.0|         0.0|     NULL|                  0.3|         5.3|           2|        1|                 0.0|\n",
      "|       2| 2020-01-21 14:25:16|  2020-01-21 14:35:51|                 N|         1|         152|         238|              1|         2.71|       11.0|  0.0|    0.5|      2.91|         0.0|     NULL|                  0.3|       17.46|           1|        1|                2.75|\n",
      "|    NULL| 2020-01-07 09:46:00|  2020-01-07 09:59:00|              NULL|      NULL|          51|           3|           NULL|         2.13|      18.96| 2.75|    0.0|       0.0|         0.0|     NULL|                  0.3|       22.01|        NULL|     NULL|                NULL|\n",
      "|    NULL| 2020-01-10 08:19:00|  2020-01-10 09:15:00|              NULL|      NULL|          32|         186|           NULL|        17.93|      49.58|  0.0|    0.0|       0.0|         2.8|     NULL|                  0.3|       52.68|        NULL|     NULL|                NULL|\n",
      "|       2| 2020-01-15 10:57:40|  2020-01-15 11:33:06|                 N|         1|         130|         228|              3|        24.04|       64.5|  0.0|    0.5|     13.06|         0.0|     NULL|                  0.3|       78.36|           1|        1|                 0.0|\n",
      "|       2| 2020-01-26 16:52:02|  2020-01-26 17:03:01|                 N|         1|           7|         223|              1|         1.45|        8.5|  0.0|    0.5|      2.79|         0.0|     NULL|                  0.3|       12.09|           1|        1|                 0.0|\n",
      "|       2| 2020-01-24 21:57:19|  2020-01-24 22:27:38|                 N|         1|         244|          87|              1|        10.94|       34.0|  0.5|    0.5|      3.95|         0.0|     NULL|                  0.3|        42.0|           1|        1|                2.75|\n",
      "|       2| 2020-01-27 23:45:54|  2020-01-27 23:58:33|                 N|         1|          65|          62|              5|         3.18|       12.0|  0.5|    0.5|       2.0|         0.0|     NULL|                  0.3|        15.3|           1|        1|                 0.0|\n",
      "|       2| 2020-01-26 17:21:19|  2020-01-26 17:31:43|                 N|         1|          95|          95|              1|         1.86|        8.5|  0.0|    0.5|       0.0|         0.0|     NULL|                  0.3|         9.3|           2|        1|                 0.0|\n",
      "|       2| 2020-01-07 11:54:37|  2020-01-07 12:04:23|                 N|         1|         181|         195|              1|         1.75|        8.5|  0.0|    0.5|       0.0|         0.0|     NULL|                  0.3|         9.3|           2|        1|                 0.0|\n",
      "|    NULL| 2020-01-12 07:21:00|  2020-01-12 07:58:00|              NULL|      NULL|         240|          37|           NULL|        18.95|      40.47|  0.0|    0.5|       0.0|         0.0|     NULL|                  0.0|       40.97|        NULL|     NULL|                NULL|\n",
      "|    NULL| 2020-01-13 11:56:00|  2020-01-13 12:23:00|              NULL|      NULL|          75|         220|           NULL|         9.24|      34.86| 2.75|    0.0|       0.0|         2.8|     NULL|                  0.3|       40.71|        NULL|     NULL|                NULL|\n",
      "|       2| 2020-01-11 05:41:57|  2020-01-11 05:51:49|                 N|         5|         127|          69|              1|         3.37|        7.0|  0.0|    0.0|       0.0|         0.0|     NULL|                  0.3|         7.3|           2|        2|                 0.0|\n",
      "|    NULL| 2020-01-28 13:40:00|  2020-01-28 13:59:00|              NULL|      NULL|          25|          61|           NULL|         2.92|      20.73| 2.75|    0.5|       0.0|         0.0|     NULL|                  0.0|       23.98|        NULL|     NULL|                NULL|\n",
      "|    NULL| 2020-01-28 11:19:00|  2020-01-28 11:33:00|              NULL|      NULL|         212|          81|           NULL|         5.13|      22.59| 2.75|    0.5|       0.0|         0.0|     NULL|                  0.0|       25.84|        NULL|     NULL|                NULL|\n",
      "|       1| 2020-01-23 07:57:08|  2020-01-23 08:01:28|                 N|         1|         166|          24|              1|          1.0|        5.5|  0.0|    0.5|      1.26|         0.0|     NULL|                  0.3|        7.56|           1|        1|                 0.0|\n",
      "|       2| 2020-01-20 10:04:55|  2020-01-20 10:06:34|                 N|         1|          75|          75|              1|         0.59|        3.5|  0.0|    0.5|       0.0|         0.0|     NULL|                  0.3|         4.3|           2|        1|                 0.0|\n",
      "|    NULL| 2020-01-03 18:37:00|  2020-01-03 18:37:00|              NULL|      NULL|          81|          81|           NULL|          0.0|      22.26|  0.0|    0.5|       0.0|         0.0|     NULL|                  0.3|       23.06|        NULL|     NULL|                NULL|\n",
      "+--------+--------------------+---------------------+------------------+----------+------------+------------+---------------+-------------+-----------+-----+-------+----------+------------+---------+---------------------+------------+------------+---------+--------------------+\n",
      "only showing top 20 rows\n",
      "\n"
     ]
    }
   ],
   "source": [
    "df_green = spark.read.parquet('data/pq/green/*/*')\n",
    "df_green.show()"
   ]
  },
  {
   "cell_type": "code",
   "execution_count": 3,
   "id": "ccbdfa00-20ae-4e35-8baa-d283eaa78dc6",
   "metadata": {},
   "outputs": [
    {
     "name": "stdout",
     "output_type": "stream",
     "text": [
      "+--------+--------------------+---------------------+---------------+-------------+----------+------------------+------------+------------+------------+-----------+-----+-------+----------+------------+---------------------+------------+--------------------+\n",
      "|VendorID|tpep_pickup_datetime|tpep_dropoff_datetime|passenger_count|trip_distance|RatecodeID|store_and_fwd_flag|PULocationID|DOLocationID|payment_type|fare_amount|extra|mta_tax|tip_amount|tolls_amount|improvement_surcharge|total_amount|congestion_surcharge|\n",
      "+--------+--------------------+---------------------+---------------+-------------+----------+------------------+------------+------------+------------+-----------+-----+-------+----------+------------+---------------------+------------+--------------------+\n",
      "|       1| 2020-01-01 19:45:57|  2020-01-01 20:06:13|              1|          6.1|         1|                 N|         162|          87|           1|       21.0|  2.5|    0.5|      4.85|         0.0|                  0.3|       29.15|                 2.5|\n",
      "|       2| 2020-01-05 16:31:22|  2020-01-05 16:47:15|              1|         2.82|         1|                 N|         170|         143|           1|       12.5|  0.0|    0.5|       1.2|         0.0|                  0.3|        17.0|                 2.5|\n",
      "|       2| 2020-01-07 05:39:53|  2020-01-07 06:11:56|              1|        23.53|         4|                 N|         132|         265|           1|      104.0|  0.5|    0.5|     21.06|         0.0|                  0.3|      126.36|                 0.0|\n",
      "|       2| 2020-01-14 11:55:53|  2020-01-14 12:14:05|              1|         1.98|         1|                 N|         263|         233|           1|       12.5|  0.0|    0.5|       1.0|         0.0|                  0.3|        16.8|                 2.5|\n",
      "|       2| 2020-01-16 22:44:11|  2020-01-16 22:49:00|              1|         0.99|         1|                 N|         234|          68|           1|        5.5|  0.5|    0.5|       1.7|         0.0|                  0.3|        11.0|                 2.5|\n",
      "|       2| 2020-01-28 00:44:32|  2020-01-28 00:44:34|              1|          0.0|         5|                 N|         264|         264|           1|       62.0|  0.0|    0.0|     12.46|         0.0|                  0.3|       74.76|                 0.0|\n",
      "|       2| 2020-01-09 11:03:27|  2020-01-09 11:10:32|              1|         1.04|         1|                 N|         239|         236|           1|        6.5|  0.0|    0.5|      1.96|         0.0|                  0.3|       11.76|                 2.5|\n",
      "|       1| 2020-01-31 00:05:12|  2020-01-31 00:30:43|              1|         11.3|         1|                 N|         132|          17|           1|       33.0|  0.5|    0.5|      6.85|         0.0|                  0.3|       41.15|                 0.0|\n",
      "|       2| 2020-01-08 10:32:04|  2020-01-08 10:37:12|              1|         1.32|         1|                 N|         140|         262|           1|        6.0|  0.0|    0.5|      2.32|         0.0|                  0.3|       11.62|                 2.5|\n",
      "|       1| 2020-01-28 14:23:26|  2020-01-28 14:38:41|              2|          3.7|         1|                 N|          13|          90|           1|       14.5|  2.5|    0.5|       5.3|         0.0|                  0.3|        23.1|                 2.5|\n",
      "|       2| 2020-01-29 18:37:02|  2020-01-29 19:00:32|              1|          4.1|         1|                 N|         162|         202|           2|       18.0|  1.0|    0.5|       0.0|         0.0|                  0.3|        22.3|                 2.5|\n",
      "|       2| 2020-01-25 13:32:09|  2020-01-25 13:39:00|              1|         1.16|         1|                 N|         211|          90|           1|        6.5|  0.0|    0.5|      1.96|         0.0|                  0.3|       11.76|                 2.5|\n",
      "|       2| 2020-01-17 10:47:02|  2020-01-17 10:56:49|              1|         1.39|         1|                 N|         161|         142|           1|        8.0|  0.0|    0.5|      2.82|         0.0|                  0.3|       14.12|                 2.5|\n",
      "|       1| 2020-01-25 01:09:52|  2020-01-25 01:30:30|              1|          5.9|         1|                 N|         143|         223|           1|       20.5|  3.0|    0.5|      7.25|         0.0|                  0.3|       31.55|                 2.5|\n",
      "|       2| 2020-01-16 09:40:00|  2020-01-16 10:07:35|              1|         3.06|         1|                 N|         113|         100|           1|       18.0|  0.0|    0.5|      5.32|         0.0|                  0.3|       26.62|                 2.5|\n",
      "|       2| 2020-01-09 19:37:04|  2020-01-09 19:51:07|              1|         1.39|         1|                 N|         230|         237|           1|       10.0|  1.0|    0.5|      2.86|         0.0|                  0.3|       17.16|                 2.5|\n",
      "|       2| 2020-01-17 05:12:02|  2020-01-17 05:21:18|              1|         6.81|         1|                 N|         132|          28|           1|       19.5|  0.5|    0.5|       5.2|         0.0|                  0.3|        26.0|                 0.0|\n",
      "|       1| 2020-01-12 20:48:45|  2020-01-12 20:59:55|              1|          2.3|         1|                 N|         163|          43|           1|       10.5|  3.0|    0.5|      2.86|         0.0|                  0.3|       17.16|                 2.5|\n",
      "|       2| 2020-01-12 18:11:10|  2020-01-12 18:29:22|              2|         2.01|         1|                 N|         100|          79|           1|       13.0|  0.0|    0.5|      3.26|         0.0|                  0.3|       19.56|                 2.5|\n",
      "|       2| 2020-01-09 18:27:25|  2020-01-09 18:38:32|              1|         1.96|         1|                 N|         161|         143|           1|        9.5|  1.0|    0.5|      2.07|         0.0|                  0.3|       15.87|                 2.5|\n",
      "+--------+--------------------+---------------------+---------------+-------------+----------+------------------+------------+------------+------------+-----------+-----+-------+----------+------------+---------------------+------------+--------------------+\n",
      "only showing top 20 rows\n",
      "\n"
     ]
    }
   ],
   "source": [
    "df_yellow = spark.read.parquet('data/pq/yellow/*/*')\n",
    "df_yellow.show()"
   ]
  },
  {
   "cell_type": "code",
   "execution_count": 4,
   "id": "28b9aee0-dec6-4772-a01d-cafedbbc68b3",
   "metadata": {},
   "outputs": [
    {
     "data": {
      "text/plain": [
       "{'DOLocationID',\n",
       " 'PULocationID',\n",
       " 'RatecodeID',\n",
       " 'VendorID',\n",
       " 'congestion_surcharge',\n",
       " 'extra',\n",
       " 'fare_amount',\n",
       " 'improvement_surcharge',\n",
       " 'mta_tax',\n",
       " 'passenger_count',\n",
       " 'payment_type',\n",
       " 'store_and_fwd_flag',\n",
       " 'tip_amount',\n",
       " 'tolls_amount',\n",
       " 'total_amount',\n",
       " 'trip_distance'}"
      ]
     },
     "execution_count": 4,
     "metadata": {},
     "output_type": "execute_result"
    }
   ],
   "source": [
    "set(df_green.columns) & set(df_yellow.columns)"
   ]
  },
  {
   "cell_type": "code",
   "execution_count": 7,
   "id": "d4d91eb1-e3d6-430d-a84b-320db4e94da1",
   "metadata": {},
   "outputs": [],
   "source": [
    "df_green = df_green \\\n",
    "    .withColumnRenamed('lpep_pickup_datetime', 'pickup_datetime') \\\n",
    "    .withColumnRenamed('lpep_dropoff_datetime', 'dropoff_datetime')\n"
   ]
  },
  {
   "cell_type": "code",
   "execution_count": 6,
   "id": "afe98fbb-4c04-43e3-af88-1018b9eed9b2",
   "metadata": {},
   "outputs": [
    {
     "data": {
      "text/plain": [
       "['VendorID',\n",
       " 'pickup_datetime',\n",
       " 'dropoff_datetime',\n",
       " 'store_and_fwd_flag',\n",
       " 'RatecodeID',\n",
       " 'PULocationID',\n",
       " 'DOLocationID',\n",
       " 'passenger_count',\n",
       " 'trip_distance',\n",
       " 'fare_amount',\n",
       " 'extra',\n",
       " 'mta_tax',\n",
       " 'tip_amount',\n",
       " 'tolls_amount',\n",
       " 'ehail_fee',\n",
       " 'improvement_surcharge',\n",
       " 'total_amount',\n",
       " 'payment_type',\n",
       " 'trip_type',\n",
       " 'congestion_surcharge']"
      ]
     },
     "execution_count": 6,
     "metadata": {},
     "output_type": "execute_result"
    }
   ],
   "source": [
    "df_green.columns"
   ]
  },
  {
   "cell_type": "code",
   "execution_count": 8,
   "id": "33282bde-d27a-4559-9c1a-4ab3e3009b11",
   "metadata": {},
   "outputs": [
    {
     "data": {
      "text/plain": [
       "['VendorID',\n",
       " 'tpep_pickup_datetime',\n",
       " 'tpep_dropoff_datetime',\n",
       " 'passenger_count',\n",
       " 'trip_distance',\n",
       " 'RatecodeID',\n",
       " 'store_and_fwd_flag',\n",
       " 'PULocationID',\n",
       " 'DOLocationID',\n",
       " 'payment_type',\n",
       " 'fare_amount',\n",
       " 'extra',\n",
       " 'mta_tax',\n",
       " 'tip_amount',\n",
       " 'tolls_amount',\n",
       " 'improvement_surcharge',\n",
       " 'total_amount',\n",
       " 'congestion_surcharge']"
      ]
     },
     "execution_count": 8,
     "metadata": {},
     "output_type": "execute_result"
    }
   ],
   "source": [
    "df_yellow.columns"
   ]
  },
  {
   "cell_type": "code",
   "execution_count": 9,
   "id": "a0fbcbdc-e384-4c6b-9eb1-f6aa4166e006",
   "metadata": {},
   "outputs": [],
   "source": [
    "df_yellow = df_yellow \\\n",
    "    .withColumnRenamed('tpep_pickup_datetime', 'pickup_datetime') \\\n",
    "    .withColumnRenamed('tpep_dropoff_datetime', 'dropoff_datetime')\n"
   ]
  },
  {
   "cell_type": "code",
   "execution_count": 10,
   "id": "c81a47c9-fa96-410a-801d-cd1b4e43942f",
   "metadata": {},
   "outputs": [
    {
     "data": {
      "text/plain": [
       "{'DOLocationID',\n",
       " 'PULocationID',\n",
       " 'RatecodeID',\n",
       " 'VendorID',\n",
       " 'congestion_surcharge',\n",
       " 'dropoff_datetime',\n",
       " 'extra',\n",
       " 'fare_amount',\n",
       " 'improvement_surcharge',\n",
       " 'mta_tax',\n",
       " 'passenger_count',\n",
       " 'payment_type',\n",
       " 'pickup_datetime',\n",
       " 'store_and_fwd_flag',\n",
       " 'tip_amount',\n",
       " 'tolls_amount',\n",
       " 'total_amount',\n",
       " 'trip_distance'}"
      ]
     },
     "execution_count": 10,
     "metadata": {},
     "output_type": "execute_result"
    }
   ],
   "source": [
    "set(df_green.columns) & set(df_yellow.columns)\n"
   ]
  },
  {
   "cell_type": "code",
   "execution_count": 11,
   "id": "4fa65dbe-4305-4824-86a4-ceced7d4d219",
   "metadata": {},
   "outputs": [],
   "source": [
    "green_original_columns = ['VendorID',\n",
    " 'pickup_datetime',\n",
    " 'dropoff_datetime',\n",
    " 'store_and_fwd_flag',\n",
    " 'RatecodeID',\n",
    " 'PULocationID',\n",
    " 'DOLocationID',\n",
    " 'passenger_count',\n",
    " 'trip_distance',\n",
    " 'fare_amount',\n",
    " 'extra',\n",
    " 'mta_tax',\n",
    " 'tip_amount',\n",
    " 'tolls_amount',\n",
    " 'ehail_fee',\n",
    " 'improvement_surcharge',\n",
    " 'total_amount',\n",
    " 'payment_type',\n",
    " 'trip_type',\n",
    " 'congestion_surcharge']"
   ]
  },
  {
   "cell_type": "code",
   "execution_count": 12,
   "id": "43289c03-b03a-41e0-bc57-ccb5442339c9",
   "metadata": {},
   "outputs": [
    {
     "data": {
      "text/plain": [
       "{'DOLocationID',\n",
       " 'PULocationID',\n",
       " 'RatecodeID',\n",
       " 'VendorID',\n",
       " 'congestion_surcharge',\n",
       " 'dropoff_datetime',\n",
       " 'extra',\n",
       " 'fare_amount',\n",
       " 'improvement_surcharge',\n",
       " 'mta_tax',\n",
       " 'passenger_count',\n",
       " 'payment_type',\n",
       " 'pickup_datetime',\n",
       " 'store_and_fwd_flag',\n",
       " 'tip_amount',\n",
       " 'tolls_amount',\n",
       " 'total_amount',\n",
       " 'trip_distance'}"
      ]
     },
     "execution_count": 12,
     "metadata": {},
     "output_type": "execute_result"
    }
   ],
   "source": [
    "set(df_yellow.columns) & set(green_original_columns)"
   ]
  },
  {
   "cell_type": "code",
   "execution_count": 13,
   "id": "a07004f7-5075-4615-8751-001b4f95052e",
   "metadata": {},
   "outputs": [
    {
     "data": {
      "text/plain": [
       "['VendorID',\n",
       " 'pickup_datetime',\n",
       " 'dropoff_datetime',\n",
       " 'store_and_fwd_flag',\n",
       " 'RatecodeID',\n",
       " 'PULocationID',\n",
       " 'DOLocationID',\n",
       " 'passenger_count',\n",
       " 'trip_distance',\n",
       " 'fare_amount',\n",
       " 'extra',\n",
       " 'mta_tax',\n",
       " 'tip_amount',\n",
       " 'tolls_amount',\n",
       " 'improvement_surcharge',\n",
       " 'total_amount',\n",
       " 'payment_type',\n",
       " 'congestion_surcharge']"
      ]
     },
     "execution_count": 13,
     "metadata": {},
     "output_type": "execute_result"
    }
   ],
   "source": [
    "# combine the columns of the two dataframes in a particular order \n",
    "common_columns=[]\n",
    "\n",
    "yellow_columns = set(df_yellow.columns)\n",
    "\n",
    "for column in df_green.columns:\n",
    "    if column in yellow_columns: \n",
    "        common_columns.append(column)\n",
    "\n",
    "common_columns"
   ]
  },
  {
   "cell_type": "code",
   "execution_count": 14,
   "id": "2607a64e-385e-4e41-bf0a-d3adcb50c608",
   "metadata": {},
   "outputs": [],
   "source": [
    "from pyspark.sql import functions as F"
   ]
  },
  {
   "cell_type": "code",
   "execution_count": 15,
   "id": "eb4ca2de-325a-457a-9ac3-6cb466ad9b0e",
   "metadata": {},
   "outputs": [],
   "source": [
    "# select these columns ^ from the datasets\n",
    "df_green_sel = df_green \\\n",
    "    .select(common_columns) \\\n",
    "    .withColumn('service_type', F.lit('green'))"
   ]
  },
  {
   "cell_type": "code",
   "execution_count": 16,
   "id": "6fbd98d7-7f1b-4a03-b92e-0c4b20af9ca2",
   "metadata": {},
   "outputs": [],
   "source": [
    "# select these columns ^ from the datasets\n",
    "df_yellow_sel = df_yellow \\\n",
    "    .select(common_columns) \\\n",
    "    .withColumn('service_type', F.lit('yellow'))"
   ]
  },
  {
   "cell_type": "code",
   "execution_count": 17,
   "id": "84d05654-7c2e-43f0-9e5b-8f72b4fa7963",
   "metadata": {},
   "outputs": [],
   "source": [
    "# combine yellow and green into one \n",
    "df_trips_data = df_green_sel.unionAll(df_yellow_sel) "
   ]
  },
  {
   "cell_type": "code",
   "execution_count": 19,
   "id": "aff91350-20dd-4fbe-a39e-34ad3bbda970",
   "metadata": {},
   "outputs": [
    {
     "name": "stderr",
     "output_type": "stream",
     "text": [
      "[Stage 4:================================================>        (17 + 3) / 20]\r"
     ]
    },
    {
     "name": "stdout",
     "output_type": "stream",
     "text": [
      "+------------+--------+\n",
      "|service_type|   count|\n",
      "+------------+--------+\n",
      "|       green| 2304517|\n",
      "|      yellow|39649199|\n",
      "+------------+--------+\n",
      "\n"
     ]
    },
    {
     "name": "stderr",
     "output_type": "stream",
     "text": [
      "                                                                                \r"
     ]
    }
   ],
   "source": [
    "df_trips_data.groupBy('service_type').count().show()"
   ]
  },
  {
   "cell_type": "code",
   "execution_count": 31,
   "id": "8ba4d1fd-752a-4298-950f-6f89506e6f3a",
   "metadata": {},
   "outputs": [
    {
     "name": "stderr",
     "output_type": "stream",
     "text": [
      "/opt/homebrew/Cellar/apache-spark/3.5.0/libexec/python/pyspark/sql/dataframe.py:329: FutureWarning: Deprecated in 2.0, use createOrReplaceTempView instead.\n",
      "  warnings.warn(\"Deprecated in 2.0, use createOrReplaceTempView instead.\", FutureWarning)\n"
     ]
    }
   ],
   "source": [
    "df_trips_data.registerTempTable('trips_data')"
   ]
  },
  {
   "cell_type": "code",
   "execution_count": 29,
   "id": "dc07581b-0e3d-4f4d-99ac-13e4f14d6542",
   "metadata": {
    "editable": true,
    "slideshow": {
     "slide_type": ""
    },
    "tags": []
   },
   "outputs": [],
   "source": [
    "df_result = spark.sql(\"\"\"\n",
    " SELECT\n",
    "    PULocationID AS revenue_zone,\n",
    "    date_trunc(\"month\", \"pickup_datetime\") AS revenue_month,\n",
    "    service_type,\n",
    "\n",
    "    SUM(fare_amount) AS revenue_monthly_fare,\n",
    "    SUM(extra) AS revenue_monthly_extra,\n",
    "    SUM(mta_tax) AS revenue_monthly_mta_tax,\n",
    "    SUM(tip_amount) AS revenue_monthly_tip_amount,\n",
    "    SUM(tolls_amount) AS revenue_monthly_tolls_amount,\n",
    "    SUM(improvement_surcharge) AS revenue_monthly_improvement_surcharge,\n",
    "    SUM(total_amount) AS revenue_monthly_total_amount,\n",
    "\n",
    "    AVG(passenger_count) AS avg_monthly_passenger_count,\n",
    "    AVG(trip_distance) AS avg_monthly_trip_distance\n",
    "FROM\n",
    "    trips_data\n",
    "GROUP BY 1,2,3;\n",
    "\"\"\")"
   ]
  },
  {
   "cell_type": "code",
   "execution_count": 30,
   "id": "6cecbb3c-0380-4b70-bbb6-39398cd38d45",
   "metadata": {
    "editable": true,
    "slideshow": {
     "slide_type": ""
    },
    "tags": []
   },
   "outputs": [
    {
     "name": "stderr",
     "output_type": "stream",
     "text": [
      "                                                                                \r"
     ]
    }
   ],
   "source": [
    "df_result.coalesce().write.parquet('data/report/revenue')"
   ]
  },
  {
   "cell_type": "code",
   "execution_count": null,
   "id": "b440fac8-7a9b-44bb-bb23-fbca9b1fff26",
   "metadata": {
    "editable": true,
    "slideshow": {
     "slide_type": ""
    },
    "tags": []
   },
   "outputs": [],
   "source": []
  }
 ],
 "metadata": {
  "kernelspec": {
   "display_name": "Python 3 (ipykernel)",
   "language": "python",
   "name": "python3"
  },
  "language_info": {
   "codemirror_mode": {
    "name": "ipython",
    "version": 3
   },
   "file_extension": ".py",
   "mimetype": "text/x-python",
   "name": "python",
   "nbconvert_exporter": "python",
   "pygments_lexer": "ipython3",
   "version": "3.11.7"
  }
 },
 "nbformat": 4,
 "nbformat_minor": 5
}
